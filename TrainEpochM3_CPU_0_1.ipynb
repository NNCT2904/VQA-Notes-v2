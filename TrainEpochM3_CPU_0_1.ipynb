{
 "cells": [
  {
   "cell_type": "markdown",
   "metadata": {
    "tags": []
   },
   "source": [
    "# Training Variational Quantum Models with Barren Plateaus Mitigation Strategies\n",
    "*Training QNN treated with method 3 (Identity Blocks) of the BP mitigation strategy (Cancer)*\n",
    "\n",
    "**Authors:**\n",
    "- Jacob Cybulski and Thanh Nguyen\n"
   ]
  },
  {
   "cell_type": "code",
   "execution_count": 1,
   "metadata": {},
   "outputs": [],
   "source": [
    "from qiskit.providers.fake_provider import FakeAlmadenV2, FakeSherbrooke\n",
    "from qiskit_machine_learning.neural_networks import EstimatorQNN\n",
    "from qiskit.primitives import Estimator, BackendEstimator\n",
    "from qiskit_algorithms.gradients import ParamShiftEstimatorGradient\n",
    "from qiskit_machine_learning.connectors import TorchConnector\n",
    "\n",
    "import torch\n",
    "from torch import nn\n",
    "from torch.nn import functional as F\n",
    "from matplotlib import pyplot as plt\n",
    "import pandas as pd\n",
    "\n",
    "\n",
    "from Components.train import *\n",
    "from Components.data import cancer_data\n",
    "from Components.circuits import *\n",
    "from Components.gradients import *\n",
    "from Components.utils import *\n",
    "\n",
    "from IPython.display import clear_output"
   ]
  },
  {
   "cell_type": "code",
   "execution_count": 2,
   "metadata": {},
   "outputs": [],
   "source": [
    "from os.path import exists\n",
    "from os import makedirs"
   ]
  },
  {
   "cell_type": "code",
   "execution_count": 3,
   "metadata": {},
   "outputs": [],
   "source": [
    "# Global config for all experiments (data size, feature dim etc.) is stored here\n",
    "from GLOBAL_CONFIG import *\n",
    "# Remember to tag the method\n",
    "METHOD_TAG = 'm3'"
   ]
  },
  {
   "cell_type": "code",
   "execution_count": 4,
   "metadata": {},
   "outputs": [],
   "source": [
    "# backend = FakeSherbrooke()\n",
    "# estimator = BackendEstimator(backend)\n",
    "estimator = Estimator()"
   ]
  },
  {
   "cell_type": "code",
   "execution_count": 5,
   "metadata": {},
   "outputs": [
    {
     "name": "stdout",
     "output_type": "stream",
     "text": [
      "Training set: 398 samples\n",
      "Testing set: 171 samples\n",
      "Number of features: 4\n",
      "PCA Explained variance: [4.43782605e+05 7.31010006e+03 7.03833742e+02 5.46487379e+01]\n",
      "Classes:[0 1]; Encoded as: [-1  1]\n"
     ]
    }
   ],
   "source": [
    "X_train, X_val, y_train, y_val = cancer_data(PCA_n = FEATURE_DIM)\n",
    "# X_train, X_val, y_train, y_val = fetch_mnist(PCA_n = FEATURE_DIM, data_size=DATA_SIZE)\n",
    "# X_train, X_val, y_train, y_val = iris(pd=False, PCA_n=None)\n",
    "\n",
    "X_train_t = torch.from_numpy(X_train).to(torch.float32)\n",
    "y_train_t = torch.from_numpy(y_train).to(torch.float32)\n",
    "X_val_t = torch.from_numpy(X_val).to(torch.float32)\n",
    "y_val_t = torch.from_numpy(y_val).to(torch.float32)"
   ]
  },
  {
   "cell_type": "code",
   "execution_count": 6,
   "metadata": {},
   "outputs": [
    {
     "name": "stdout",
     "output_type": "stream",
     "text": [
      "Found save folder: ./Logs-Cancer-v4/m3\n",
      "\n"
     ]
    }
   ],
   "source": [
    "if (exists(f'{LOG_PATH}/{METHOD_TAG}')):\n",
    "    print(f'Found save folder: {LOG_PATH}/{METHOD_TAG}\\n')\n",
    "else:\n",
    "    makedirs(f'{LOG_PATH}/{METHOD_TAG}')\n",
    "    print(f'Creating save folder: {LOG_PATH}/{METHOD_TAG}\\n')"
   ]
  },
  {
   "cell_type": "markdown",
   "metadata": {},
   "source": [
    "## Measuring Gradient Variance Decay"
   ]
  },
  {
   "cell_type": "code",
   "execution_count": 7,
   "metadata": {},
   "outputs": [],
   "source": [
    "num_qubits = list(range(2, MAX_QUBITS))\n",
    "\n",
    "# Globak operator for all ansatzes, measure all qubits\n",
    "G_O = [SparsePauliOp.from_list([('Z'*n, 1)]) for n in num_qubits]\n",
    "\n",
    "# Local operator for all ansatzes, measere 2 last qubits\n",
    "L_O = [SparsePauliOp.from_list([('I' * (n - 2)+'Z'*2, 1)]) for n in num_qubits]"
   ]
  },
  {
   "cell_type": "code",
   "execution_count": 8,
   "metadata": {},
   "outputs": [],
   "source": [
    "def sampleM3Var():\n",
    "# Generate the pre-trained circuits\n",
    "    pre_trained_block = [preTrainedBlockGenerator(n, int(np.floor(n/2))) for n in num_qubits]\n",
    "\n",
    "    ansatzes_m3 = []\n",
    "    for i in range(len(pre_trained_block)):\n",
    "        ansatzes_m3.append(pre_trained_block[i]['circuit'])\n",
    "\n",
    "    parameters_m3 = []\n",
    "    for i in range(len(pre_trained_block)):\n",
    "        parameters_m3.append(list(pre_trained_block[i]['params_values'].values()))\n",
    "\n",
    "    gradients_m0 = sampleAnsatz(estimator, ansatzes_m3, G_O, parameters_m3)\n",
    "\n",
    "    variance = getVariance(gradients_m0, num_qubits)\n",
    "    \n",
    "    return variance"
   ]
  },
  {
   "cell_type": "markdown",
   "metadata": {},
   "source": [
    "## Cost Function Surface"
   ]
  },
  {
   "cell_type": "code",
   "execution_count": 9,
   "metadata": {},
   "outputs": [],
   "source": [
    "feature_map = featureMapGenerator(FEATURE_DIM)\n",
    "identity_block = preTrainedBlockGenerator(MAX_QUBITS_CLASSIFICATION, MAX_IDENTITIES_BLOCKS, overlay=IDENTITY_BLOCKS_OVERLAY, entanglement=ENTANGLEMENT, insert_barriers=True)\n",
    "ansatz = identity_block['circuit']\n",
    "qc=circuitBuilder(feature_map, ansatz)\n",
    "\n",
    "\n",
    "id_dict = {k.name : v for k, v in identity_block['params_values'].items()}\n",
    "initial_point = [id_dict[p.name] for p in list(ansatz.parameters)]"
   ]
  },
  {
   "cell_type": "code",
   "execution_count": 10,
   "metadata": {},
   "outputs": [
    {
     "data": {
      "text/plain": [
       "'CPU'"
      ]
     },
     "execution_count": 10,
     "metadata": {},
     "output_type": "execute_result"
    }
   ],
   "source": [
    "### Find what devices are available\n",
    "from qiskit_aer.backends import AerSimulator\n",
    "devices = AerSimulator().available_devices()\n",
    "devices\n",
    "\n",
    "# Force CPU - PyTorch+Qiskit too slow with GPU\n",
    "devices = ('CPU')\n",
    "devices"
   ]
  },
  {
   "cell_type": "code",
   "execution_count": 11,
   "metadata": {},
   "outputs": [
    {
     "name": "stdout",
     "output_type": "stream",
     "text": [
      "Selected device: CPU\n"
     ]
    }
   ],
   "source": [
    "from qiskit.primitives import Estimator # For \"CPU\", ignores device=\"GPU\" option\n",
    "from qiskit_aer.primitives import Estimator as AerEstimator # For device=\"GPU\" option\n",
    "\n",
    "seed = 2023\n",
    "\n",
    "# Use GPU when present, otherwise CPU\n",
    "if 'GPU' in devices:\n",
    "    device = 'GPU'\n",
    "    estimator = AerEstimator(\n",
    "        backend_options={'seed_simulator': seed, 'method': 'statevector', \n",
    "                         'device' : device, 'cuStateVec_enable' : True},\n",
    "        run_options={'seed': seed, 'shots': 1000},\n",
    "        transpile_options={\"seed_transpiler\": seed},\n",
    "    )\n",
    "else:\n",
    "    device = 'CPU'\n",
    "    estimator = Estimator()\n",
    "    estimator.set_options(method='statevector')\n",
    "    estimator.set_options(device=device)\n",
    "    estimator.set_options(seed=seed)\n",
    "    estimator.options\n",
    "\n",
    "print(f'Selected device: {device}')"
   ]
  },
  {
   "cell_type": "code",
   "execution_count": 12,
   "metadata": {},
   "outputs": [
    {
     "name": "stdout",
     "output_type": "stream",
     "text": [
      "iteration:  199\n"
     ]
    },
    {
     "data": {
      "text/html": [
       "<div>\n",
       "<style scoped>\n",
       "    .dataframe tbody tr th:only-of-type {\n",
       "        vertical-align: middle;\n",
       "    }\n",
       "\n",
       "    .dataframe tbody tr th {\n",
       "        vertical-align: top;\n",
       "    }\n",
       "\n",
       "    .dataframe thead th {\n",
       "        text-align: right;\n",
       "    }\n",
       "</style>\n",
       "<table border=\"1\" class=\"dataframe\">\n",
       "  <thead>\n",
       "    <tr style=\"text-align: right;\">\n",
       "      <th></th>\n",
       "      <th>0</th>\n",
       "      <th>1</th>\n",
       "      <th>2</th>\n",
       "      <th>3</th>\n",
       "      <th>4</th>\n",
       "      <th>5</th>\n",
       "      <th>6</th>\n",
       "      <th>7</th>\n",
       "      <th>8</th>\n",
       "      <th>9</th>\n",
       "      <th>...</th>\n",
       "      <th>105</th>\n",
       "      <th>106</th>\n",
       "      <th>107</th>\n",
       "      <th>108</th>\n",
       "      <th>109</th>\n",
       "      <th>110</th>\n",
       "      <th>111</th>\n",
       "      <th>112</th>\n",
       "      <th>113</th>\n",
       "      <th>114</th>\n",
       "    </tr>\n",
       "  </thead>\n",
       "  <tbody>\n",
       "    <tr>\n",
       "      <th>0</th>\n",
       "      <td>3.021409</td>\n",
       "      <td>-0.048244</td>\n",
       "      <td>-2.666477</td>\n",
       "      <td>-3.296381</td>\n",
       "      <td>-0.246612</td>\n",
       "      <td>-4.833035</td>\n",
       "      <td>-2.126607</td>\n",
       "      <td>-6.170490</td>\n",
       "      <td>-2.417374</td>\n",
       "      <td>-0.783118</td>\n",
       "      <td>...</td>\n",
       "      <td>0.751670</td>\n",
       "      <td>1.328294</td>\n",
       "      <td>2.929275</td>\n",
       "      <td>-2.790828</td>\n",
       "      <td>-1.491147</td>\n",
       "      <td>-0.890094</td>\n",
       "      <td>-3.600606</td>\n",
       "      <td>-0.672839</td>\n",
       "      <td>3.377723</td>\n",
       "      <td>0.993251</td>\n",
       "    </tr>\n",
       "    <tr>\n",
       "      <th>1</th>\n",
       "      <td>3.123459</td>\n",
       "      <td>-0.001397</td>\n",
       "      <td>-2.626094</td>\n",
       "      <td>-3.340703</td>\n",
       "      <td>-0.151604</td>\n",
       "      <td>-4.733301</td>\n",
       "      <td>-1.951252</td>\n",
       "      <td>-6.141534</td>\n",
       "      <td>-2.354869</td>\n",
       "      <td>-0.870001</td>\n",
       "      <td>...</td>\n",
       "      <td>0.753979</td>\n",
       "      <td>1.459826</td>\n",
       "      <td>2.920781</td>\n",
       "      <td>-2.817691</td>\n",
       "      <td>-1.406866</td>\n",
       "      <td>-0.843787</td>\n",
       "      <td>-3.496663</td>\n",
       "      <td>-0.674428</td>\n",
       "      <td>3.446018</td>\n",
       "      <td>0.987285</td>\n",
       "    </tr>\n",
       "    <tr>\n",
       "      <th>2</th>\n",
       "      <td>3.000284</td>\n",
       "      <td>-0.111418</td>\n",
       "      <td>-2.670436</td>\n",
       "      <td>-3.436477</td>\n",
       "      <td>-0.137106</td>\n",
       "      <td>-4.736062</td>\n",
       "      <td>-2.030830</td>\n",
       "      <td>-6.137550</td>\n",
       "      <td>-2.501648</td>\n",
       "      <td>-0.734292</td>\n",
       "      <td>...</td>\n",
       "      <td>0.820525</td>\n",
       "      <td>1.366391</td>\n",
       "      <td>2.832911</td>\n",
       "      <td>-2.907492</td>\n",
       "      <td>-1.456474</td>\n",
       "      <td>-0.704242</td>\n",
       "      <td>-3.625950</td>\n",
       "      <td>-0.619507</td>\n",
       "      <td>3.441062</td>\n",
       "      <td>0.986832</td>\n",
       "    </tr>\n",
       "    <tr>\n",
       "      <th>3</th>\n",
       "      <td>3.082239</td>\n",
       "      <td>0.013615</td>\n",
       "      <td>-2.763604</td>\n",
       "      <td>-3.337145</td>\n",
       "      <td>-0.139466</td>\n",
       "      <td>-4.921792</td>\n",
       "      <td>-2.092610</td>\n",
       "      <td>-6.301665</td>\n",
       "      <td>-2.499486</td>\n",
       "      <td>-0.819185</td>\n",
       "      <td>...</td>\n",
       "      <td>0.802595</td>\n",
       "      <td>1.436427</td>\n",
       "      <td>2.754899</td>\n",
       "      <td>-2.900958</td>\n",
       "      <td>-1.440024</td>\n",
       "      <td>-0.786149</td>\n",
       "      <td>-3.511134</td>\n",
       "      <td>-0.639790</td>\n",
       "      <td>3.369592</td>\n",
       "      <td>1.013874</td>\n",
       "    </tr>\n",
       "    <tr>\n",
       "      <th>4</th>\n",
       "      <td>3.049530</td>\n",
       "      <td>-0.012775</td>\n",
       "      <td>-2.738878</td>\n",
       "      <td>-3.399104</td>\n",
       "      <td>-0.285862</td>\n",
       "      <td>-4.851933</td>\n",
       "      <td>-1.982136</td>\n",
       "      <td>-6.293086</td>\n",
       "      <td>-2.383486</td>\n",
       "      <td>-0.736625</td>\n",
       "      <td>...</td>\n",
       "      <td>0.810198</td>\n",
       "      <td>1.390942</td>\n",
       "      <td>2.921417</td>\n",
       "      <td>-2.853235</td>\n",
       "      <td>-1.482978</td>\n",
       "      <td>-0.744048</td>\n",
       "      <td>-3.504694</td>\n",
       "      <td>-0.801101</td>\n",
       "      <td>3.408916</td>\n",
       "      <td>0.996682</td>\n",
       "    </tr>\n",
       "    <tr>\n",
       "      <th>...</th>\n",
       "      <td>...</td>\n",
       "      <td>...</td>\n",
       "      <td>...</td>\n",
       "      <td>...</td>\n",
       "      <td>...</td>\n",
       "      <td>...</td>\n",
       "      <td>...</td>\n",
       "      <td>...</td>\n",
       "      <td>...</td>\n",
       "      <td>...</td>\n",
       "      <td>...</td>\n",
       "      <td>...</td>\n",
       "      <td>...</td>\n",
       "      <td>...</td>\n",
       "      <td>...</td>\n",
       "      <td>...</td>\n",
       "      <td>...</td>\n",
       "      <td>...</td>\n",
       "      <td>...</td>\n",
       "      <td>...</td>\n",
       "      <td>...</td>\n",
       "    </tr>\n",
       "    <tr>\n",
       "      <th>194</th>\n",
       "      <td>3.089798</td>\n",
       "      <td>-0.126491</td>\n",
       "      <td>-2.731171</td>\n",
       "      <td>-3.291255</td>\n",
       "      <td>-0.157401</td>\n",
       "      <td>-4.849417</td>\n",
       "      <td>-1.946753</td>\n",
       "      <td>-6.251562</td>\n",
       "      <td>-2.383990</td>\n",
       "      <td>-0.847909</td>\n",
       "      <td>...</td>\n",
       "      <td>0.727571</td>\n",
       "      <td>1.438362</td>\n",
       "      <td>2.762957</td>\n",
       "      <td>-2.911276</td>\n",
       "      <td>-1.464677</td>\n",
       "      <td>-0.744462</td>\n",
       "      <td>-3.544950</td>\n",
       "      <td>-0.720481</td>\n",
       "      <td>3.503685</td>\n",
       "      <td>1.002045</td>\n",
       "    </tr>\n",
       "    <tr>\n",
       "      <th>195</th>\n",
       "      <td>2.947387</td>\n",
       "      <td>-0.041892</td>\n",
       "      <td>-2.640721</td>\n",
       "      <td>-3.455947</td>\n",
       "      <td>-0.200640</td>\n",
       "      <td>-4.852735</td>\n",
       "      <td>-2.138042</td>\n",
       "      <td>-6.276672</td>\n",
       "      <td>-2.384049</td>\n",
       "      <td>-0.884985</td>\n",
       "      <td>...</td>\n",
       "      <td>0.868516</td>\n",
       "      <td>1.360370</td>\n",
       "      <td>2.782282</td>\n",
       "      <td>-2.891906</td>\n",
       "      <td>-1.349393</td>\n",
       "      <td>-0.735226</td>\n",
       "      <td>-3.540457</td>\n",
       "      <td>-0.681788</td>\n",
       "      <td>3.372062</td>\n",
       "      <td>0.994994</td>\n",
       "    </tr>\n",
       "    <tr>\n",
       "      <th>196</th>\n",
       "      <td>2.933480</td>\n",
       "      <td>-0.009478</td>\n",
       "      <td>-2.618473</td>\n",
       "      <td>-3.454748</td>\n",
       "      <td>-0.272764</td>\n",
       "      <td>-4.877979</td>\n",
       "      <td>-1.963152</td>\n",
       "      <td>-6.216005</td>\n",
       "      <td>-2.474888</td>\n",
       "      <td>-0.876330</td>\n",
       "      <td>...</td>\n",
       "      <td>0.772286</td>\n",
       "      <td>1.462899</td>\n",
       "      <td>2.847072</td>\n",
       "      <td>-2.810439</td>\n",
       "      <td>-1.428443</td>\n",
       "      <td>-0.848667</td>\n",
       "      <td>-3.506934</td>\n",
       "      <td>-0.758255</td>\n",
       "      <td>3.492492</td>\n",
       "      <td>0.984046</td>\n",
       "    </tr>\n",
       "    <tr>\n",
       "      <th>197</th>\n",
       "      <td>3.045144</td>\n",
       "      <td>-0.135348</td>\n",
       "      <td>-2.767708</td>\n",
       "      <td>-3.402949</td>\n",
       "      <td>-0.284838</td>\n",
       "      <td>-4.836559</td>\n",
       "      <td>-2.113649</td>\n",
       "      <td>-6.312300</td>\n",
       "      <td>-2.402487</td>\n",
       "      <td>-0.780451</td>\n",
       "      <td>...</td>\n",
       "      <td>0.886830</td>\n",
       "      <td>1.473667</td>\n",
       "      <td>2.796257</td>\n",
       "      <td>-2.914698</td>\n",
       "      <td>-1.486363</td>\n",
       "      <td>-0.828591</td>\n",
       "      <td>-3.535833</td>\n",
       "      <td>-0.678724</td>\n",
       "      <td>3.397837</td>\n",
       "      <td>0.970909</td>\n",
       "    </tr>\n",
       "    <tr>\n",
       "      <th>198</th>\n",
       "      <td>2.995102</td>\n",
       "      <td>-0.058332</td>\n",
       "      <td>-2.642921</td>\n",
       "      <td>-3.287978</td>\n",
       "      <td>-0.277516</td>\n",
       "      <td>-4.787662</td>\n",
       "      <td>-2.031514</td>\n",
       "      <td>-6.199183</td>\n",
       "      <td>-2.459430</td>\n",
       "      <td>-0.750062</td>\n",
       "      <td>...</td>\n",
       "      <td>0.828477</td>\n",
       "      <td>1.317834</td>\n",
       "      <td>2.869684</td>\n",
       "      <td>-2.927961</td>\n",
       "      <td>-1.455867</td>\n",
       "      <td>-0.872648</td>\n",
       "      <td>-3.532662</td>\n",
       "      <td>-0.724777</td>\n",
       "      <td>3.337497</td>\n",
       "      <td>1.003190</td>\n",
       "    </tr>\n",
       "  </tbody>\n",
       "</table>\n",
       "<p>199 rows × 115 columns</p>\n",
       "</div>"
      ],
      "text/plain": [
       "          0         1         2         3         4         5         6    \\\n",
       "0    3.021409 -0.048244 -2.666477 -3.296381 -0.246612 -4.833035 -2.126607   \n",
       "1    3.123459 -0.001397 -2.626094 -3.340703 -0.151604 -4.733301 -1.951252   \n",
       "2    3.000284 -0.111418 -2.670436 -3.436477 -0.137106 -4.736062 -2.030830   \n",
       "3    3.082239  0.013615 -2.763604 -3.337145 -0.139466 -4.921792 -2.092610   \n",
       "4    3.049530 -0.012775 -2.738878 -3.399104 -0.285862 -4.851933 -1.982136   \n",
       "..        ...       ...       ...       ...       ...       ...       ...   \n",
       "194  3.089798 -0.126491 -2.731171 -3.291255 -0.157401 -4.849417 -1.946753   \n",
       "195  2.947387 -0.041892 -2.640721 -3.455947 -0.200640 -4.852735 -2.138042   \n",
       "196  2.933480 -0.009478 -2.618473 -3.454748 -0.272764 -4.877979 -1.963152   \n",
       "197  3.045144 -0.135348 -2.767708 -3.402949 -0.284838 -4.836559 -2.113649   \n",
       "198  2.995102 -0.058332 -2.642921 -3.287978 -0.277516 -4.787662 -2.031514   \n",
       "\n",
       "          7         8         9    ...       105       106       107  \\\n",
       "0   -6.170490 -2.417374 -0.783118  ...  0.751670  1.328294  2.929275   \n",
       "1   -6.141534 -2.354869 -0.870001  ...  0.753979  1.459826  2.920781   \n",
       "2   -6.137550 -2.501648 -0.734292  ...  0.820525  1.366391  2.832911   \n",
       "3   -6.301665 -2.499486 -0.819185  ...  0.802595  1.436427  2.754899   \n",
       "4   -6.293086 -2.383486 -0.736625  ...  0.810198  1.390942  2.921417   \n",
       "..        ...       ...       ...  ...       ...       ...       ...   \n",
       "194 -6.251562 -2.383990 -0.847909  ...  0.727571  1.438362  2.762957   \n",
       "195 -6.276672 -2.384049 -0.884985  ...  0.868516  1.360370  2.782282   \n",
       "196 -6.216005 -2.474888 -0.876330  ...  0.772286  1.462899  2.847072   \n",
       "197 -6.312300 -2.402487 -0.780451  ...  0.886830  1.473667  2.796257   \n",
       "198 -6.199183 -2.459430 -0.750062  ...  0.828477  1.317834  2.869684   \n",
       "\n",
       "          108       109       110       111       112       113       114  \n",
       "0   -2.790828 -1.491147 -0.890094 -3.600606 -0.672839  3.377723  0.993251  \n",
       "1   -2.817691 -1.406866 -0.843787 -3.496663 -0.674428  3.446018  0.987285  \n",
       "2   -2.907492 -1.456474 -0.704242 -3.625950 -0.619507  3.441062  0.986832  \n",
       "3   -2.900958 -1.440024 -0.786149 -3.511134 -0.639790  3.369592  1.013874  \n",
       "4   -2.853235 -1.482978 -0.744048 -3.504694 -0.801101  3.408916  0.996682  \n",
       "..        ...       ...       ...       ...       ...       ...       ...  \n",
       "194 -2.911276 -1.464677 -0.744462 -3.544950 -0.720481  3.503685  1.002045  \n",
       "195 -2.891906 -1.349393 -0.735226 -3.540457 -0.681788  3.372062  0.994994  \n",
       "196 -2.810439 -1.428443 -0.848667 -3.506934 -0.758255  3.492492  0.984046  \n",
       "197 -2.914698 -1.486363 -0.828591 -3.535833 -0.678724  3.397837  0.970909  \n",
       "198 -2.927961 -1.455867 -0.872648 -3.532662 -0.724777  3.337497  1.003190  \n",
       "\n",
       "[199 rows x 115 columns]"
      ]
     },
     "metadata": {},
     "output_type": "display_data"
    }
   ],
   "source": [
    "res = pd.DataFrame()\n",
    "epochs = 200\n",
    "\n",
    "start = time.time()\n",
    "for i in range(0, epochs):\n",
    "    print('iteration: ', i)\n",
    "    display(res)\n",
    "    pertubated_initial_point = initial_point + np.random.uniform(-0.1, 0.1, ansatz.num_parameters)\n",
    "    \n",
    "    qnn = EstimatorQNN(\n",
    "        circuit=qc,\n",
    "        estimator=Estimator(),\n",
    "        observables=GLOBAL_OPERATOR,\n",
    "        input_params=feature_map.parameters,\n",
    "        weight_params=ansatz.parameters\n",
    "    )\n",
    "\n",
    "    model = TorchConnector(qnn, initial_weights=pertubated_initial_point)\n",
    "\n",
    "    loss_function = nn.L1Loss() #This is MAE loss\n",
    "    optimizer = torch.optim.NAdam(model.parameters(), lr=0.05)\n",
    "\n",
    "    loss, weight = sampleWeightLoss(\n",
    "        model, \n",
    "        X_train_t,\n",
    "        y_train_t,\n",
    "        optimizer = optimizer, \n",
    "        loss_function = loss_function\n",
    "        )\n",
    "    res = pd.concat([res, pd.DataFrame(np.append(weight.numpy(), loss.numpy())).transpose()], ignore_index=True) \n",
    "    clear_output(wait=True)\n",
    "elapsed = time.time() - start\n",
    "\n",
    "pd.DataFrame(res).astype('float').to_csv(f'{LOG_PATH}/{METHOD_TAG}/LossFunctionSurface.csv')"
   ]
  },
  {
   "cell_type": "code",
   "execution_count": 13,
   "metadata": {},
   "outputs": [
    {
     "name": "stdout",
     "output_type": "stream",
     "text": [
      "CPU Fit\n",
      "\tQubits:\t\t8\n",
      "\tId Blocks:\t\t3\n",
      "\tWeights:\t114\n",
      "\tEpochs:\t\t200)\n",
      "\tTime:\t\t521.95 sec\n"
     ]
    }
   ],
   "source": [
    "# Print run statistics\n",
    "print(f'{device} Fit\\n'+\n",
    "      f'\\tQubits:\\t\\t{len(ansatz.qubits)}\\n'+\n",
    "      f'\\tId Blocks:\\t\\t{MAX_IDENTITIES_BLOCKS}\\n'+\n",
    "      f'\\tWeights:\\t{len(ansatz.parameters)}\\n'+\n",
    "      f'\\tEpochs:\\t\\t{epochs})\\n'+\n",
    "      f'\\tTime:\\t\\t{elapsed:0.2f} sec')"
   ]
  },
  {
   "cell_type": "markdown",
   "metadata": {},
   "source": [
    "## Measure Training Performance"
   ]
  },
  {
   "cell_type": "code",
   "execution_count": 14,
   "metadata": {},
   "outputs": [
    {
     "data": {
      "image/png": "[encoded data removed]",
      "text/plain": [
       "<Figure size 640x480 with 1 Axes>"
      ]
     },
     "metadata": {},
     "output_type": "display_data"
    },
    {
     "name": "stdout",
     "output_type": "stream",
     "text": [
      "Blue: torch.Size([250])\n",
      "Green: torch.Size([148])\n"
     ]
    }
   ],
   "source": [
    "# Plot dataset (only the first two args)\n",
    "for x, y_target in zip(X_train_t, y_train_t):\n",
    "    if y_target == 1:\n",
    "        plt.plot(x[0], x[1], color=\"blue\", marker=\".\", markersize=5)\n",
    "    else:\n",
    "        plt.plot(x[0], x[1], color=\"green\", marker=\".\", markersize=5)\n",
    "plt.xlabel('PC 0')\n",
    "plt.ylabel('PC 1')\n",
    "plt.show()\n",
    "\n",
    "rows_b = np.where(np.array(y_train_t)==1)\n",
    "rows_g = np.where(np.array(y_train_t)==-1)\n",
    "print('Blue:', y_train_t[rows_b].size())\n",
    "print('Green:', y_train_t[rows_g].size())"
   ]
  },
  {
   "cell_type": "code",
   "execution_count": 15,
   "metadata": {},
   "outputs": [
    {
     "data": {
      "image/png": "[encoded data removed]",
      "text/plain": [
       "<Figure size 640x480 with 1 Axes>"
      ]
     },
     "metadata": {},
     "output_type": "display_data"
    },
    {
     "name": "stdout",
     "output_type": "stream",
     "text": [
      "Blue: torch.Size([250])\n",
      "Green: torch.Size([148])\n"
     ]
    }
   ],
   "source": [
    "# Plot dataset (only the first and the third arg)\n",
    "for x, y_target in zip(X_train_t, y_train_t):\n",
    "    if y_target == 1:\n",
    "        plt.plot(x[0], x[2], color=\"blue\", marker=\".\", markersize=5)\n",
    "    else:\n",
    "        plt.plot(x[0], x[2], color=\"green\", marker=\".\", markersize=5)\n",
    "plt.xlabel('PC 0')\n",
    "plt.ylabel('PC 2')\n",
    "plt.show()\n",
    "\n",
    "rows_b = np.where(np.array(y_train_t)==1)\n",
    "rows_g = np.where(np.array(y_train_t)==-1)\n",
    "print('Blue:', y_train_t[rows_b].size())\n",
    "print('Green:', y_train_t[rows_g].size())"
   ]
  },
  {
   "cell_type": "code",
   "execution_count": 16,
   "metadata": {},
   "outputs": [],
   "source": [
    "feature_map = featureMapGenerator(FEATURE_DIM)\n",
    "identity_block = preTrainedBlockGenerator(MAX_QUBITS_CLASSIFICATION, MAX_IDENTITIES_BLOCKS, overlay=IDENTITY_BLOCKS_OVERLAY, entanglement=ENTANGLEMENT, insert_barriers=True)\n",
    "ansatz = identity_block['circuit']\n",
    "qc=circuitBuilder(feature_map, ansatz)"
   ]
  },
  {
   "cell_type": "code",
   "execution_count": null,
   "metadata": {},
   "outputs": [
    {
     "name": "stdout",
     "output_type": "stream",
     "text": [
      "Adding a new instance 0 of method m3\n",
      "\n",
      "Number of ansatzes, parameters, operator to run: 1000\n",
      "Epoch      Loss                 Train Accuracy   Test Accuracy   \n",
      "[ 0 ]      1.0                  0.37186          0.37427         \n",
      "[ 10 ]     0.7769700288772583   0.69347          0.76608         \n",
      "[ 20 ]     0.7233800292015076   0.73367          0.80117         \n"
     ]
    }
   ],
   "source": [
    "# To execute on multiple machines concurrently\n",
    "# Select separate sub-lists of instance numbers and run\n",
    "# Alternatively use range(MAX_INST) for all\n",
    "\n",
    "m = METHOD_TAG\n",
    "path = LOG_PATH\n",
    "times = []\n",
    "\n",
    "# for i in [0, 1, 2, 3, 4, 5, 6, 7, 8, 9]: \n",
    "for i in [0, 1]: \n",
    "    \n",
    "    # Mark that the method's data has been saved\n",
    "    if (exists(f'{path}/{m}')):\n",
    "        print(f'Adding a new instance {i} of method {m}\\n')\n",
    "    else:\n",
    "        makedirs(f'{path}/{m}')\n",
    "        print(f'Creating the first instance {i} of method {m}\\n')\n",
    "\n",
    "    m3_variances = sampleM3Var()\n",
    "        \n",
    "    # The identity block returns parameters in order different to that in the ansatz\n",
    "    identity_block = preTrainedBlockGenerator(MAX_QUBITS_CLASSIFICATION, MAX_IDENTITIES_BLOCKS, overlay=IDENTITY_BLOCKS_OVERLAY, entanglement=ENTANGLEMENT, insert_barriers=True)\n",
    "    id_dict = {k.name : v for k, v in identity_block['params_values'].items()}\n",
    "    initial_point = [id_dict[p.name] for p in list(ansatz.parameters)]\n",
    "\n",
    "    # By default this will run as a local simulation\n",
    "    qnn = EstimatorQNN(\n",
    "        circuit=qc,\n",
    "        estimator=Estimator(),\n",
    "        observables=GLOBAL_OPERATOR,\n",
    "        input_params=feature_map.parameters,\n",
    "        weight_params=ansatz.parameters\n",
    "    )\n",
    "\n",
    "    model = TorchConnector(qnn, initial_weights=initial_point)\n",
    "\n",
    "    loss_function = nn.L1Loss() # MSELoss()\n",
    "    optimizer = torch.optim.NAdam(model.parameters(), lr=0.05)\n",
    "\n",
    "    start = time.time()\n",
    "    model, losses, accuracy_train, accuracy_test, weights = train(\n",
    "        model, \n",
    "        MAX_ITER, \n",
    "        X_train_t,\n",
    "        y_train_t,\n",
    "        X_val_t,\n",
    "        y_val_t,\n",
    "        optimizer = optimizer, \n",
    "        loss_function = loss_function\n",
    "        )\n",
    "    elapsed = time.time() - start\n",
    "    times.append(elapsed)\n",
    "\n",
    "    pd.DataFrame(m3_variances, num_qubits).astype('float').to_csv(f'{path}/{m}/{m}-{i}-Variances.csv')\n",
    "    pd.DataFrame(losses).astype('float').to_csv(f'{path}/{m}/{m}-{i}-LossFunction.csv')\n",
    "    pd.DataFrame(accuracy_train).astype('float').to_csv(f'{path}/{m}/{m}-{i}-Scores-Train.csv')\n",
    "    pd.DataFrame(accuracy_test).astype('float').to_csv(f'{path}/{m}/{m}-{i}-Scores-Test.csv')\n",
    "    pd.DataFrame(weights).astype('float').to_csv(f'{path}/{m}/{m}-{i}-Weights.csv')\n",
    "    \n",
    "    # Mark that the method's data has been saved\n",
    "    if (exists(f'{path}/{m}/{m}-Method.csv')):\n",
    "        f = open(f'{path}/{m}/{m}-Method.csv', 'a')\n",
    "    else:\n",
    "        f = open(f'{path}/{m}/{m}-Method.csv', 'w')\n",
    "        f.write(f'{m},Instance,Max Inst,Examples,Features,Iterations\\n')\n",
    "    f.write(f',{i},{MAX_INST},{DATA_SIZE},{FEATURE_DIM},{MAX_ITER}\\n')\n",
    "    f.close()\n",
    "    \n",
    "    clear_output(wait=True)"
   ]
  },
  {
   "cell_type": "code",
   "execution_count": null,
   "metadata": {},
   "outputs": [],
   "source": [
    "print(f'\\nAverage time / instance: {np.average(times)}')"
   ]
  },
  {
   "cell_type": "code",
   "execution_count": null,
   "metadata": {},
   "outputs": [],
   "source": [
    "%matplotlib inline\n",
    "import matplotlib as mpl\n",
    "mpl.rcParams['figure.dpi'] = 300\n",
    "\n",
    "# Plot the loss of the last saved instance\n",
    "plot_method_data([pd.DataFrame(losses).astype('float').T])"
   ]
  },
  {
   "cell_type": "code",
   "execution_count": null,
   "metadata": {},
   "outputs": [],
   "source": [
    "# Plot the loss of the last saved instance\n",
    "plot_method_data([pd.DataFrame(accuracy_test).astype('float').T],\n",
    "                title='Test Accuracy', dlabel='inst#', xlabel='Accuraccy', ylabel='Iteration')"
   ]
  },
  {
   "cell_type": "code",
   "execution_count": null,
   "metadata": {},
   "outputs": [],
   "source": [
    "!pip list | grep qiskit"
   ]
  },
  {
   "cell_type": "code",
   "execution_count": null,
   "metadata": {},
   "outputs": [],
   "source": [
    "!pip list | grep torch"
   ]
  }
 ],
 "metadata": {
  "kernelspec": {
   "display_name": "Python 3 (ipykernel)",
   "language": "python",
   "name": "python3"
  },
  "language_info": {
   "codemirror_mode": {
    "name": "ipython",
    "version": 3
   },
   "file_extension": ".py",
   "mimetype": "text/x-python",
   "name": "python",
   "nbconvert_exporter": "python",
   "pygments_lexer": "ipython3",
   "version": "3.10.13"
  },
  "vscode": {
   "interpreter": {
    "hash": "6a13c8f5b783206a43b73a673b4c249a5e5ee0a2cf865a54b80fb656bbdf8626"
   }
  }
 },
 "nbformat": 4,
 "nbformat_minor": 4
}
